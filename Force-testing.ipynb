{
 "cells": [
  {
   "cell_type": "code",
   "execution_count": 38,
   "id": "0759fa50-b6cc-46d8-8472-5696831a3ba1",
   "metadata": {},
   "outputs": [],
   "source": [
    "import numpy as np\n",
    "import importlib\n",
    "import matplotlib.colors as col\n",
    "import matplotlib.pyplot as plt\n",
    "import matplotlib as mpl\n",
    "import matplotlib.cm as cm\n",
    "import matplotlib.ticker as ticker\n",
    "import math\n",
    "from mpl_toolkits.mplot3d import Axes3D\n",
    "import pdb\n",
    "import pickle\n",
    "from DebugObjectModule import DebugObject\n"
   ]
  },
  {
   "cell_type": "code",
   "execution_count": null,
   "id": "10b408d6-8bd0-413a-9dff-93e48e8db77f",
   "metadata": {},
   "outputs": [],
   "source": []
  },
  {
   "cell_type": "markdown",
   "id": "8a92c00e-6190-4fa7-a64b-6e26fad6d0e5",
   "metadata": {},
   "source": [
    "# Testing Group Velocity"
   ]
  },
  {
   "cell_type": "markdown",
   "id": "4021e86b-9ffb-45fd-bf1d-d09c443c3b8c",
   "metadata": {},
   "source": [
    "## Import file conditions"
   ]
  },
  {
   "cell_type": "code",
   "execution_count": 60,
   "id": "6ec43c6b-8be8-48d2-816a-8653ec6f51b2",
   "metadata": {},
   "outputs": [
    {
     "name": "stdout",
     "output_type": "stream",
     "text": [
      "Using initial conditions from  input.000026_testing\n"
     ]
    }
   ],
   "source": [
    "Run_num = \"000026_testing\"\n",
    "\n",
    "input_fname_1 = str(f\"input.{Run_num}\")\n",
    "print(\"Using initial conditions from \", input_fname_1)\n",
    "init = importlib.import_module(input_fname_1)\n",
    "sim_name = init.simulation_name\n",
    "shape_name = init.shape\n",
    "xden = init.xdensity\n",
    "yden = init.ydensity\n",
    "xiden = init.xidensity\n",
    "res = init.resolution\n",
    "iter = init.iterations\n",
    "mode = init.mode\n",
    "fname = init.fname\n",
    "debugmode = init.debugmode\n",
    "x_c = init.x_c\n",
    "y_c = init.y_c\n",
    "xi_c = init.xi_c\n",
    "px_0 = init.px_0\n",
    "py_0 = init.py_0\n",
    "pz_0 = init.pz_0\n",
    "x_s = init.x_s\n",
    "s1 = init.s1\n",
    "s2 = init.s2"
   ]
  },
  {
   "cell_type": "code",
   "execution_count": 61,
   "id": "e102b3c5-857a-4929-adc1-f9365204230a",
   "metadata": {},
   "outputs": [
    {
     "name": "stdout",
     "output_type": "stream",
     "text": [
      "<DebugObjectModule.DebugObject object at 0x000001A0AFB8C580>\n",
      "<class 'DebugObjectModule.DebugObject'>\n",
      "[[7.         7.         7.         ... 3.99868341 3.99871261 3.99874167]]\n"
     ]
    }
   ],
   "source": [
    "file = open(\"./data/\"+fname[:-4]+\"-DEBUG.obj\", 'rb') \n",
    "debug = pickle.load(file)[0]\n",
    "file.close\n",
    "print(debug)\n",
    "print(type(debug))\n",
    "print(debug.x_dat)\n",
    "x_dat = debug.x_dat\n",
    "y_dat = debug.y_dat\n",
    "z_dat = debug.z_dat\n",
    "xi_dat = debug.xi_dat\n",
    "Fx_dat = debug.Fx_dat\n",
    "Fy_dat = debug.Fy_dat\n",
    "Fz_dat = debug.Fz_dat\n",
    "px_dat = debug.px_dat\n",
    "py_dat = debug.py_dat"
   ]
  },
  {
   "cell_type": "markdown",
   "id": "b6e0f213-965e-4953-814b-696e49c88150",
   "metadata": {},
   "source": [
    "Here we make an array to index iterations"
   ]
  },
  {
   "cell_type": "code",
   "execution_count": 62,
   "id": "c9a2f0b7-fb94-4c3f-abba-ced806112546",
   "metadata": {},
   "outputs": [
    {
     "name": "stdout",
     "output_type": "stream",
     "text": [
      "[    0     1     2 ... 99997 99998 99999]\n",
      "[0.00000e+00 5.00000e-03 1.00000e-02 ... 4.99985e+02 4.99990e+02\n",
      " 4.99995e+02]\n"
     ]
    }
   ],
   "source": [
    "#Create array for iterations\n",
    "iterations = np.arange(0,len(xi_dat[0,:]),1)\n",
    "print(iterations)\n",
    "\n",
    "dt = 0.005 #Timestep in 1/w_p\n",
    "\n",
    "#Create array for times\n",
    "time = iterations*dt\n",
    "print(time)"
   ]
  },
  {
   "cell_type": "markdown",
   "id": "9eff44ae-da5e-47f9-8595-8560a0948b83",
   "metadata": {},
   "source": [
    "## Beta Calculation"
   ]
  },
  {
   "cell_type": "code",
   "execution_count": 63,
   "id": "de75b23e-dd28-4bd3-a7a1-3ddeed0cd44d",
   "metadata": {},
   "outputs": [],
   "source": [
    "def Gamma(p):\n",
    "        return math.sqrt(1.0 + p**2)\n",
    "\n",
    "def Velocity(px,ptot):\n",
    "    # Returns relativistic velocity from momentum\n",
    "    return px / Gamma(ptot)"
   ]
  },
  {
   "cell_type": "code",
   "execution_count": 64,
   "id": "77ce1f3b-0c22-471a-9b01-0cc772be96af",
   "metadata": {},
   "outputs": [
    {
     "name": "stdout",
     "output_type": "stream",
     "text": [
      "px = 0\n",
      "pz = 100\n",
      "vx = 0.0\n",
      "vz = 0.9999500037496876\n",
      "alpha = 0.0\n",
      "gamma = 100.00499987500625\n"
     ]
    }
   ],
   "source": [
    "px = px_0\n",
    "py = py_0\n",
    "pz = pz_0\n",
    "\n",
    "p = math.sqrt(px**2 + py**2 + pz**2)\n",
    "vx = Velocity(px, p)\n",
    "vz = Velocity(pz, p)\n",
    "alpha = vx/vz\n",
    "gamma = math.sqrt(p**2 + 1)\n",
    "\n",
    "print(f\"px = {px}\")\n",
    "print(f\"pz = {pz}\")\n",
    "\n",
    "print(f\"vx = {vx}\")\n",
    "print(f\"vz = {vz}\")\n",
    "print(f\"alpha = {alpha}\")\n",
    "print(f\"gamma = {gamma}\")"
   ]
  },
  {
   "cell_type": "markdown",
   "id": "f4a6623c-123a-429a-b6e5-dd63a558e1fc",
   "metadata": {},
   "source": [
    "## Plotting"
   ]
  },
  {
   "cell_type": "code",
   "execution_count": 65,
   "id": "ac2758d5-55ac-4b0b-b93a-1a6ed6c33271",
   "metadata": {},
   "outputs": [
    {
     "data": {
      "image/png": "[encoded data removed]",
      "text/plain": [
       "<Figure size 432x288 with 1 Axes>"
      ]
     },
     "metadata": {
      "needs_background": "light"
     },
     "output_type": "display_data"
    }
   ],
   "source": [
    "fig1, ax1 = plt.subplots(1)\n",
    "ax1.set_xlabel(r\"Time ($1/\\omega_p$)\")\n",
    "ax1.set_ylabel(r\"$\\xi$ ($c/\\omega_p$)\")\n",
    "ax1.set_title(f\"Electron Trajectories through Blowout Regime {fname[0:6]} \\n\"+r\"$\\alpha=0.1$\")\n",
    "ax1.ticklabel_format(style='plain', axis='y',useOffset=False)\n",
    "\n",
    "for i in range(0, 1):\n",
    "    ax1.plot(time, xi_dat[i,:],  'k', label='$time-Xi Trajectory') # Want vertical axis as y\n",
    "\n",
    "fig1.tight_layout()\n",
    "fig1.savefig(\"Force-testing_\"+fname[:-4]+\".png\", transparent=False)"
   ]
  },
  {
   "cell_type": "code",
   "execution_count": 66,
   "id": "1755a55b-8490-4294-b664-3ff2af39b0ac",
   "metadata": {},
   "outputs": [
    {
     "name": "stdout",
     "output_type": "stream",
     "text": [
      "-9.0 -8.46658938704934\n"
     ]
    }
   ],
   "source": [
    "print(xi_dat[0,0], xi_dat[0,-1])"
   ]
  },
  {
   "cell_type": "code",
   "execution_count": 67,
   "id": "7ef39fa4-0590-40bf-8f3f-67ccc6a4abcc",
   "metadata": {},
   "outputs": [
    {
     "name": "stdout",
     "output_type": "stream",
     "text": [
      "71984\n"
     ]
    }
   ],
   "source": [
    "argmax = np.argmax(xi_dat[0,:])\n",
    "print(argmax)"
   ]
  },
  {
   "cell_type": "code",
   "execution_count": 69,
   "id": "3caac65c-9138-432a-9a62-59e667b63ae1",
   "metadata": {},
   "outputs": [
    {
     "data": {
      "image/png": "[encoded data removed]",
      "text/plain": [
       "<Figure size 432x288 with 1 Axes>"
      ]
     },
     "metadata": {
      "needs_background": "light"
     },
     "output_type": "display_data"
    }
   ],
   "source": [
    "fig2, ax2 = plt.subplots(1)\n",
    "ax2.set_xlabel(r\"Time ($1/\\omega_p$)\")\n",
    "ax2.set_ylabel(r\"$F_z$ ($c/\\omega_p$)\")\n",
    "ax2.set_title(f\"Electron Trajectories through Blowout Regime {fname[0:6]} \\n\"+r\"$\\alpha=0.1$\")\n",
    "ax2.ticklabel_format(style='plain', axis='y',useOffset=False)\n",
    "\n",
    "for i in range(0, 1):\n",
    "    #ax2.plot(time[0:argmax], xi_dat[i,0:argmax],  'k', label='$Z-Xi Trajectory') # Want vertical axis as y\n",
    "    ax2.plot(time[:], Fx_dat[i,:], label='$F_x$ Trajectory') # Want vertical axis as y\n",
    "    ax2.plot(time[:], Fz_dat[i,:], label='$F_z$ Trajectory') # Want vertical axis as y\n",
    "    \n",
    "fig2.legend(bbox_to_anchor=(1, 1), bbox_transform=ax2.transAxes)\n",
    "\n",
    "fig2.tight_layout()\n",
    "fig2.savefig(\"Force-testing_\"+fname[:-4]+\"-02.png\", transparent=False)"
   ]
  },
  {
   "cell_type": "code",
   "execution_count": 109,
   "id": "20dad1aa-56a6-4fc7-a75f-3afe039c3f5a",
   "metadata": {},
   "outputs": [
    {
     "data": {
      "image/png": "[encoded data removed]",
      "text/plain": [
       "<Figure size 432x288 with 1 Axes>"
      ]
     },
     "metadata": {
      "needs_background": "light"
     },
     "output_type": "display_data"
    }
   ],
   "source": [
    "fig3, ax3 = plt.subplots(1)\n",
    "ax3.set_xlabel(r\"Time ($1/\\omega_p$)\")\n",
    "ax3.set_ylabel(r\"$\\xi$ ($c/\\omega_p$)\")\n",
    "ax3.set_title(f\"Electron Trajectories through Blowout Regime {fname[0:6]} \\n\"+r\"$\\alpha=0.1$\")\n",
    "ax3.ticklabel_format(style='plain', axis='y',useOffset=False)\n",
    "\n",
    "for i in range(0, 1):\n",
    "    ax3.plot(time[argmax], xi_dat[i,argmax], marker='o', markersize=5, color=\"red\")\n",
    "    ax3.plot(time[0:argmax], xi_dat[i,0:argmax],  'k', label='$time-Xi Trajectory') # Want vertical axis as y\n",
    "    #ax3.plot(time[0:argmax], Fz_dat[i,0:argmax],  'k', label='$Fz Trajectory') # Want vertical axis as y\n",
    "\n",
    "fig3.tight_layout()\n",
    "fig3.savefig(\"Group_Velocity_Test_\"+fname[:-4]+\"-03.png\", transparent=False)"
   ]
  },
  {
   "cell_type": "code",
   "execution_count": 110,
   "id": "b33a5cb3-ff61-4ec0-8ed9-fab0cc3ed4a4",
   "metadata": {},
   "outputs": [
    {
     "data": {
      "image/png": "[encoded data removed]",
      "text/plain": [
       "<Figure size 432x288 with 1 Axes>"
      ]
     },
     "metadata": {
      "needs_background": "light"
     },
     "output_type": "display_data"
    }
   ],
   "source": [
    "fig4, ax4 = plt.subplots(1)\n",
    "ax4.set_xlabel(r\"x ($1/\\omega_p$)\")\n",
    "ax4.set_ylabel(r\"$\\xi$ ($c/\\omega_p$)\")\n",
    "ax4.set_title(f\"Electron Trajectories through Blowout Regime {fname[0:6]} \\n\"+r\"$\\alpha=0.1$\")\n",
    "ax4.ticklabel_format(style='plain', axis='y',useOffset=False)\n",
    "\n",
    "for i in range(0, 1):\n",
    "    ax4.plot(x_dat[i,argmax], xi_dat[i,argmax], marker='o', markersize=5, color=\"red\")\n",
    "    ax4.plot(x_dat[i,0:argmax], xi_dat[i,0:argmax],  'k', label='$time-Xi Trajectory') # Want vertical axis as y\n",
    "    #ax4.plot(time[0:argmax], Fz_dat[i,0:argmax],  'k', label='$Fz Trajectory') # Want vertical axis as y\n",
    "\n",
    "fig4.tight_layout()\n",
    "fig4.savefig(\"Group_Velocity_Test_\"+fname[:-4]+\"-04.png\", transparent=False)"
   ]
  },
  {
   "cell_type": "markdown",
   "id": "33666590-93b0-4bc2-99ae-d47fa83e1f19",
   "metadata": {},
   "source": [
    "# Calculating Slope up to argmax"
   ]
  },
  {
   "cell_type": "code",
   "execution_count": 111,
   "id": "8abacb62-0a8a-477a-99f1-071c3c2d6270",
   "metadata": {},
   "outputs": [
    {
     "name": "stdout",
     "output_type": "stream",
     "text": [
      "Run: 000023\n",
      "argmax = 859\n",
      "xi_dat[0,argmax] = -7.106567383736966\n"
     ]
    }
   ],
   "source": [
    "print(f\"Run: {Run_num}\")\n",
    "print(f\"argmax = {argmax}\")\n",
    "print(f\"xi_dat[0,argmax] = {xi_dat[0,argmax]}\")"
   ]
  },
  {
   "cell_type": "code",
   "execution_count": 112,
   "id": "7e46064f-aeb4-447f-a91f-85df4f8799b0",
   "metadata": {},
   "outputs": [
    {
     "name": "stdout",
     "output_type": "stream",
     "text": [
      "xi vs Time Slope = 0.045036697616538765\n",
      "We expected a slope of: -0.045036697617686694\n",
      "\n",
      "xi vs x Slope = 0.4526134334980332\n",
      "We expected a slope of: -0.45261343350967254\n"
     ]
    }
   ],
   "source": [
    "nu = 0.95\n",
    "g = vz\n",
    "\n",
    "t_slope = (xi_dat[0,argmax]-xi_dat[0,0])/(time[argmax]-time[0])\n",
    "print(f\"xi vs Time Slope = {t_slope}\")\n",
    "expected_t_slope = nu - g\n",
    "print(f\"We expected a slope of: {expected_t_slope}\")\n",
    "\n",
    "print()\n",
    "\n",
    "x_slope = (xi_dat[0,argmax]-xi_dat[0,0])/(x_dat[0,argmax]-x_dat[0,0])\n",
    "print(f\"xi vs x Slope = {x_slope}\")\n",
    "expected_x_slope = (nu - vz)/vx\n",
    "print(f\"We expected a slope of: {expected_x_slope}\")"
   ]
  },
  {
   "cell_type": "code",
   "execution_count": 115,
   "id": "17b0f06e-0b5e-4ef9-a0b7-a287f49fd309",
   "metadata": {},
   "outputs": [
    {
     "name": "stdout",
     "output_type": "stream",
     "text": [
      "Percent error in t slopes: 0.0000000025%\n",
      "Percent error in x slopes: 0.0000000026%\n"
     ]
    }
   ],
   "source": [
    "print(f\"Percent error in t slopes: {(abs(expected_t_slope) - abs(t_slope))/abs(expected_t_slope):.10%}\")\n",
    "print(f\"Percent error in x slopes: {(abs(expected_x_slope) - abs(x_slope))/abs(expected_x_slope):.10%}\")"
   ]
  },
  {
   "cell_type": "code",
   "execution_count": null,
   "id": "6e799d63-7b35-4b61-b635-ac0b48885fad",
   "metadata": {},
   "outputs": [],
   "source": []
  },
  {
   "cell_type": "code",
   "execution_count": null,
   "id": "aa58f9cf-247f-4341-8cf7-52b580cc49e0",
   "metadata": {},
   "outputs": [],
   "source": []
  }
 ],
 "metadata": {
  "kernelspec": {
   "display_name": "Python 3",
   "language": "python",
   "name": "python3"
  },
  "language_info": {
   "codemirror_mode": {
    "name": "ipython",
    "version": 3
   },
   "file_extension": ".py",
   "mimetype": "text/x-python",
   "name": "python",
   "nbconvert_exporter": "python",
   "pygments_lexer": "ipython3",
   "version": "3.8.8"
  }
 },
 "nbformat": 4,
 "nbformat_minor": 5
}
