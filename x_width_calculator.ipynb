{
 "cells": [
  {
   "cell_type": "markdown",
   "id": "3960028f-12b7-44e5-a695-776ea56dc7c7",
   "metadata": {},
   "source": [
    "# s3 Calculator"
   ]
  },
  {
   "cell_type": "markdown",
   "id": "c4199dcc-2f7b-488b-a112-2042eb343357",
   "metadata": {},
   "source": [
    "This notebook can be used to find `s3`, the distance from `beamx_c` to the edge of the probe in the x-direction"
   ]
  },
  {
   "cell_type": "code",
   "execution_count": 3,
   "id": "5215c323-ed80-4baa-80ef-ab381edb8e86",
   "metadata": {},
   "outputs": [],
   "source": [
    "import math\n",
    "import numpy as np\n",
    "import pdb"
   ]
  },
  {
   "cell_type": "markdown",
   "id": "2f16f220-1496-4612-afde-6a184d56d333",
   "metadata": {},
   "source": [
    "Enter your paramters here:"
   ]
  },
  {
   "cell_type": "code",
   "execution_count": 4,
   "id": "34d5bfc3-307a-48eb-83d3-e646b0db3a45",
   "metadata": {},
   "outputs": [],
   "source": [
    "s2 = 12\n",
    "xidensity = 1200\n",
    "xdensity = 50\n",
    "x_c = -2.4"
   ]
  },
  {
   "cell_type": "markdown",
   "id": "14d8f043-aca5-46fa-8a73-b258751ba30a",
   "metadata": {},
   "source": [
    "Calculations made here:\n",
    "$$\n",
    "xistep = \\frac{2*s2}{xidensity}\n",
    "$$"
   ]
  },
  {
   "cell_type": "markdown",
   "id": "dde46822-71bb-493f-860c-4cceadefa692",
   "metadata": {},
   "source": [
    "$$\n",
    "xstep = xistep\n",
    "$$"
   ]
  },
  {
   "cell_type": "markdown",
   "id": "3eb8667f-dec0-49c4-94f5-4366cb0663a9",
   "metadata": {},
   "source": [
    "$$s3 = \\frac{1}{2}xstep*xdensity$$"
   ]
  },
  {
   "cell_type": "markdown",
   "id": "288b187b-01a7-4473-bb96-3dcf7e490221",
   "metadata": {},
   "source": [
    "## Option 1"
   ]
  },
  {
   "cell_type": "code",
   "execution_count": null,
   "id": "7fde075c-0fd5-48c9-bd96-3cef1b6ae76c",
   "metadata": {},
   "outputs": [],
   "source": [
    "xistep = 2*s2/xidensity\n",
    "xstep = xistep          \n",
    "s3 = xstep*(xdensity-1)/2.0\n",
    "print(f\"width of probe: 2*s3 = {2*s3}\")\n",
    "xback = x_c - s3\n",
    "xfront = x_c + s3\n",
    "print(f\"probe extends in x from {xfront} to {xback}\")"
   ]
  },
  {
   "cell_type": "markdown",
   "id": "060686c1-7fe1-452e-9bb1-83eaa7f0631d",
   "metadata": {},
   "source": [
    "## Option 2"
   ]
  },
  {
   "cell_type": "code",
   "execution_count": null,
   "id": "be9a9c5f-2427-4514-8e77-dc00f7a3f1eb",
   "metadata": {},
   "outputs": [],
   "source": [
    "probewidthx = float(input(\"enter probe width in x (c/w_p):\"))\n",
    "s2 = (probewidthx*xidensity)/(2*(xdensity-1))\n",
    "print(f\"s2 = {s2}\")"
   ]
  },
  {
   "cell_type": "markdown",
   "id": "d75365e7-a983-434b-ba4f-d95c79993d2f",
   "metadata": {},
   "source": [
    "## Option 3"
   ]
  },
  {
   "cell_type": "code",
   "execution_count": 5,
   "id": "cbbc7890-f648-45e9-b05c-96c866781b61",
   "metadata": {
    "tags": []
   },
   "outputs": [
    {
     "name": "stdin",
     "output_type": "stream",
     "text": [
      "enter probe width in x (c/w_p): 1.0\n"
     ]
    },
    {
     "name": "stdout",
     "output_type": "stream",
     "text": [
      "xdensity = 51.0\n"
     ]
    }
   ],
   "source": [
    "probewidthx = float(input(\"enter probe width in x (c/w_p):\"))\n",
    "xdensity = (probewidthx*xidensity)/(2*s2)+1\n",
    "if xdensity.is_integer():\n",
    "    print(f\"xdensity = {xdensity}\")\n",
    "else:\n",
    "    print(\"Error: x width not possible with current parameters for xistep\")\n",
    "    new_xden = int(xdensity) + 1\n",
    "    new_probewidth = xstep*(new_xden-1)\n",
    "    print(f\"Using xdensity of {new_xden} will result in probe with x width of {new_probewidth}\")\n",
    "    \n"
   ]
  },
  {
   "cell_type": "code",
   "execution_count": null,
   "id": "aef4032d-f4d6-4e0d-9e7a-7a3f4a1ec153",
   "metadata": {},
   "outputs": [],
   "source": []
  }
 ],
 "metadata": {
  "kernelspec": {
   "display_name": "Python 3",
   "language": "python",
   "name": "python3"
  },
  "language_info": {
   "codemirror_mode": {
    "name": "ipython",
    "version": 3
   },
   "file_extension": ".py",
   "mimetype": "text/x-python",
   "name": "python",
   "nbconvert_exporter": "python",
   "pygments_lexer": "ipython3",
   "version": "3.8.8"
  }
 },
 "nbformat": 4,
 "nbformat_minor": 5
}
