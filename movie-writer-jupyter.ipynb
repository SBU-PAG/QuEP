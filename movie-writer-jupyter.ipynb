{
 "cells": [
  {
   "cell_type": "code",
   "execution_count": 8,
   "id": "e1f090bd-5a95-43fa-8842-87a853eab0fc",
   "metadata": {},
   "outputs": [],
   "source": [
    "import os\n",
    "import pathlib\n",
    "import cv2\n",
    "import numpy as np\n",
    "from PIL import Image\n",
    "import glob\n",
    "import time\n",
    " \n",
    "img_array = []\n",
    "path = os.path.join(r'C:\\\\Users\\\\nickp\\\\Documents\\\\GitHub\\\\QuEP\\\\')"
   ]
  },
  {
   "cell_type": "code",
   "execution_count": 9,
   "id": "6bbe27fd-e6b3-49a7-8e3d-5095142bdae7",
   "metadata": {},
   "outputs": [
    {
     "name": "stdout",
     "output_type": "stream",
     "text": [
      "New dimensions for video: 4800x3000px\n",
      "Running at 15 frames per second\n"
     ]
    }
   ],
   "source": [
    "old_width = 4800\n",
    "old_height = 3000\n",
    "divisor = 1\n",
    "new_width = old_width // divisor\n",
    "new_height = old_height // divisor\n",
    "print(f\"New dimensions for video: {new_width}x{new_height}px\")\n",
    "\n",
    "fps = 15\n",
    "print(f\"Running at {fps} frames per second\")"
   ]
  },
  {
   "cell_type": "code",
   "execution_count": 10,
   "id": "ed471522-49a9-4c0a-9955-5a527a7065e8",
   "metadata": {},
   "outputs": [
    {
     "name": "stdout",
     "output_type": "stream",
     "text": [
      "Using 551 images from: C:\\\\Users\\\\nickp\\\\Documents\\\\GitHub\\\\QuEP\\animation-20210721-232702\n",
      "['progression-x-000mm.png', 'progression-x-001mm.png', 'progression-x-002mm.png', 'progression-x-003mm.png', 'progression-x-004mm.png', 'progression-x-005mm.png', 'progression-x-006mm.png', 'progression-x-007mm.png', 'progression-x-008mm.png', 'progression-x-009mm.png', 'progression-x-010mm.png', 'progression-x-011mm.png', 'progression-x-012mm.png', 'progression-x-013mm.png', 'progression-x-014mm.png', 'progression-x-015mm.png', 'progression-x-016mm.png', 'progression-x-017mm.png', 'progression-x-018mm.png', 'progression-x-019mm.png', 'progression-x-020mm.png', 'progression-x-021mm.png', 'progression-x-022mm.png', 'progression-x-023mm.png', 'progression-x-024mm.png', 'progression-x-025mm.png', 'progression-x-026mm.png', 'progression-x-027mm.png', 'progression-x-028mm.png', 'progression-x-029mm.png', 'progression-x-030mm.png', 'progression-x-031mm.png', 'progression-x-032mm.png', 'progression-x-033mm.png', 'progression-x-034mm.png', 'progression-x-035mm.png', 'progression-x-036mm.png', 'progression-x-037mm.png', 'progression-x-038mm.png', 'progression-x-039mm.png', 'progression-x-040mm.png', 'progression-x-041mm.png', 'progression-x-042mm.png', 'progression-x-043mm.png', 'progression-x-044mm.png', 'progression-x-045mm.png', 'progression-x-046mm.png', 'progression-x-047mm.png', 'progression-x-048mm.png', 'progression-x-049mm.png', 'progression-x-050mm.png', 'progression-x-051mm.png', 'progression-x-052mm.png', 'progression-x-053mm.png', 'progression-x-054mm.png', 'progression-x-055mm.png', 'progression-x-056mm.png', 'progression-x-057mm.png', 'progression-x-058mm.png', 'progression-x-059mm.png', 'progression-x-060mm.png', 'progression-x-061mm.png', 'progression-x-062mm.png', 'progression-x-063mm.png', 'progression-x-064mm.png', 'progression-x-065mm.png', 'progression-x-066mm.png', 'progression-x-067mm.png', 'progression-x-068mm.png', 'progression-x-069mm.png', 'progression-x-070mm.png', 'progression-x-071mm.png', 'progression-x-072mm.png', 'progression-x-073mm.png', 'progression-x-074mm.png', 'progression-x-075mm.png', 'progression-x-076mm.png', 'progression-x-077mm.png', 'progression-x-078mm.png', 'progression-x-079mm.png', 'progression-x-080mm.png', 'progression-x-081mm.png', 'progression-x-082mm.png', 'progression-x-083mm.png', 'progression-x-084mm.png', 'progression-x-085mm.png', 'progression-x-086mm.png', 'progression-x-087mm.png', 'progression-x-088mm.png', 'progression-x-089mm.png', 'progression-x-090mm.png', 'progression-x-091mm.png', 'progression-x-092mm.png', 'progression-x-093mm.png', 'progression-x-094mm.png', 'progression-x-095mm.png', 'progression-x-096mm.png', 'progression-x-097mm.png', 'progression-x-098mm.png', 'progression-x-099mm.png', 'progression-x-100mm.png', 'progression-x-101mm.png', 'progression-x-102mm.png', 'progression-x-103mm.png', 'progression-x-104mm.png', 'progression-x-105mm.png', 'progression-x-106mm.png', 'progression-x-107mm.png', 'progression-x-108mm.png', 'progression-x-109mm.png', 'progression-x-110mm.png', 'progression-x-111mm.png', 'progression-x-112mm.png', 'progression-x-113mm.png', 'progression-x-114mm.png', 'progression-x-115mm.png', 'progression-x-116mm.png', 'progression-x-117mm.png', 'progression-x-118mm.png', 'progression-x-119mm.png', 'progression-x-120mm.png', 'progression-x-121mm.png', 'progression-x-122mm.png', 'progression-x-123mm.png', 'progression-x-124mm.png', 'progression-x-125mm.png', 'progression-x-126mm.png', 'progression-x-127mm.png', 'progression-x-128mm.png', 'progression-x-129mm.png', 'progression-x-130mm.png', 'progression-x-131mm.png', 'progression-x-132mm.png', 'progression-x-133mm.png', 'progression-x-134mm.png', 'progression-x-135mm.png', 'progression-x-136mm.png', 'progression-x-137mm.png', 'progression-x-138mm.png', 'progression-x-139mm.png', 'progression-x-140mm.png', 'progression-x-141mm.png', 'progression-x-142mm.png', 'progression-x-143mm.png', 'progression-x-144mm.png', 'progression-x-145mm.png', 'progression-x-146mm.png', 'progression-x-147mm.png', 'progression-x-148mm.png', 'progression-x-149mm.png', 'progression-x-150mm.png', 'progression-x-151mm.png', 'progression-x-152mm.png', 'progression-x-153mm.png', 'progression-x-154mm.png', 'progression-x-155mm.png', 'progression-x-156mm.png', 'progression-x-157mm.png', 'progression-x-158mm.png', 'progression-x-159mm.png', 'progression-x-160mm.png', 'progression-x-161mm.png', 'progression-x-162mm.png', 'progression-x-163mm.png', 'progression-x-164mm.png', 'progression-x-165mm.png', 'progression-x-166mm.png', 'progression-x-167mm.png', 'progression-x-168mm.png', 'progression-x-169mm.png', 'progression-x-170mm.png', 'progression-x-171mm.png', 'progression-x-172mm.png', 'progression-x-173mm.png', 'progression-x-174mm.png', 'progression-x-175mm.png', 'progression-x-176mm.png', 'progression-x-177mm.png', 'progression-x-178mm.png', 'progression-x-179mm.png', 'progression-x-180mm.png', 'progression-x-181mm.png', 'progression-x-182mm.png', 'progression-x-183mm.png', 'progression-x-184mm.png', 'progression-x-185mm.png', 'progression-x-186mm.png', 'progression-x-187mm.png', 'progression-x-188mm.png', 'progression-x-189mm.png', 'progression-x-190mm.png', 'progression-x-191mm.png', 'progression-x-192mm.png', 'progression-x-193mm.png', 'progression-x-194mm.png', 'progression-x-195mm.png', 'progression-x-196mm.png', 'progression-x-197mm.png', 'progression-x-198mm.png', 'progression-x-199mm.png', 'progression-x-200mm.png', 'progression-x-201mm.png', 'progression-x-202mm.png', 'progression-x-203mm.png', 'progression-x-204mm.png', 'progression-x-205mm.png', 'progression-x-206mm.png', 'progression-x-207mm.png', 'progression-x-208mm.png', 'progression-x-209mm.png', 'progression-x-210mm.png', 'progression-x-211mm.png', 'progression-x-212mm.png', 'progression-x-213mm.png', 'progression-x-214mm.png', 'progression-x-215mm.png', 'progression-x-216mm.png', 'progression-x-217mm.png', 'progression-x-218mm.png', 'progression-x-219mm.png', 'progression-x-220mm.png', 'progression-x-221mm.png', 'progression-x-222mm.png', 'progression-x-223mm.png', 'progression-x-224mm.png', 'progression-x-225mm.png', 'progression-x-226mm.png', 'progression-x-227mm.png', 'progression-x-228mm.png', 'progression-x-229mm.png', 'progression-x-230mm.png', 'progression-x-231mm.png', 'progression-x-232mm.png', 'progression-x-233mm.png', 'progression-x-234mm.png', 'progression-x-235mm.png', 'progression-x-236mm.png', 'progression-x-237mm.png', 'progression-x-238mm.png', 'progression-x-239mm.png', 'progression-x-240mm.png', 'progression-x-241mm.png', 'progression-x-242mm.png', 'progression-x-243mm.png', 'progression-x-244mm.png', 'progression-x-245mm.png', 'progression-x-246mm.png', 'progression-x-247mm.png', 'progression-x-248mm.png', 'progression-x-249mm.png', 'progression-x-250mm.png', 'progression-x-251mm.png', 'progression-x-252mm.png', 'progression-x-253mm.png', 'progression-x-254mm.png', 'progression-x-255mm.png', 'progression-x-256mm.png', 'progression-x-257mm.png', 'progression-x-258mm.png', 'progression-x-259mm.png', 'progression-x-260mm.png', 'progression-x-261mm.png', 'progression-x-262mm.png', 'progression-x-263mm.png', 'progression-x-264mm.png', 'progression-x-265mm.png', 'progression-x-266mm.png', 'progression-x-267mm.png', 'progression-x-268mm.png', 'progression-x-269mm.png', 'progression-x-270mm.png', 'progression-x-271mm.png', 'progression-x-272mm.png', 'progression-x-273mm.png', 'progression-x-274mm.png', 'progression-x-275mm.png', 'progression-x-276mm.png', 'progression-x-277mm.png', 'progression-x-278mm.png', 'progression-x-279mm.png', 'progression-x-280mm.png', 'progression-x-281mm.png', 'progression-x-282mm.png', 'progression-x-283mm.png', 'progression-x-284mm.png', 'progression-x-285mm.png', 'progression-x-286mm.png', 'progression-x-287mm.png', 'progression-x-288mm.png', 'progression-x-289mm.png', 'progression-x-290mm.png', 'progression-x-291mm.png', 'progression-x-292mm.png', 'progression-x-293mm.png', 'progression-x-294mm.png', 'progression-x-295mm.png', 'progression-x-296mm.png', 'progression-x-297mm.png', 'progression-x-298mm.png', 'progression-x-299mm.png', 'progression-x-300mm.png', 'progression-x-301mm.png', 'progression-x-302mm.png', 'progression-x-303mm.png', 'progression-x-304mm.png', 'progression-x-305mm.png', 'progression-x-306mm.png', 'progression-x-307mm.png', 'progression-x-308mm.png', 'progression-x-309mm.png', 'progression-x-310mm.png', 'progression-x-311mm.png', 'progression-x-312mm.png', 'progression-x-313mm.png', 'progression-x-314mm.png', 'progression-x-315mm.png', 'progression-x-316mm.png', 'progression-x-317mm.png', 'progression-x-318mm.png', 'progression-x-319mm.png', 'progression-x-320mm.png', 'progression-x-321mm.png', 'progression-x-322mm.png', 'progression-x-323mm.png', 'progression-x-324mm.png', 'progression-x-325mm.png', 'progression-x-326mm.png', 'progression-x-327mm.png', 'progression-x-328mm.png', 'progression-x-329mm.png', 'progression-x-330mm.png', 'progression-x-331mm.png', 'progression-x-332mm.png', 'progression-x-333mm.png', 'progression-x-334mm.png', 'progression-x-335mm.png', 'progression-x-336mm.png', 'progression-x-337mm.png', 'progression-x-338mm.png', 'progression-x-339mm.png', 'progression-x-340mm.png', 'progression-x-341mm.png', 'progression-x-342mm.png', 'progression-x-343mm.png', 'progression-x-344mm.png', 'progression-x-345mm.png', 'progression-x-346mm.png', 'progression-x-347mm.png', 'progression-x-348mm.png', 'progression-x-349mm.png', 'progression-x-350mm.png', 'progression-x-351mm.png', 'progression-x-352mm.png', 'progression-x-353mm.png', 'progression-x-354mm.png', 'progression-x-355mm.png', 'progression-x-356mm.png', 'progression-x-357mm.png', 'progression-x-358mm.png', 'progression-x-359mm.png', 'progression-x-360mm.png', 'progression-x-361mm.png', 'progression-x-362mm.png', 'progression-x-363mm.png', 'progression-x-364mm.png', 'progression-x-365mm.png', 'progression-x-366mm.png', 'progression-x-367mm.png', 'progression-x-368mm.png', 'progression-x-369mm.png', 'progression-x-370mm.png', 'progression-x-371mm.png', 'progression-x-372mm.png', 'progression-x-373mm.png', 'progression-x-374mm.png', 'progression-x-375mm.png', 'progression-x-376mm.png', 'progression-x-377mm.png', 'progression-x-378mm.png', 'progression-x-379mm.png', 'progression-x-380mm.png', 'progression-x-381mm.png', 'progression-x-382mm.png', 'progression-x-383mm.png', 'progression-x-384mm.png', 'progression-x-385mm.png', 'progression-x-386mm.png', 'progression-x-387mm.png', 'progression-x-388mm.png', 'progression-x-389mm.png', 'progression-x-390mm.png', 'progression-x-391mm.png', 'progression-x-392mm.png', 'progression-x-393mm.png', 'progression-x-394mm.png', 'progression-x-395mm.png', 'progression-x-396mm.png', 'progression-x-397mm.png', 'progression-x-398mm.png', 'progression-x-399mm.png', 'progression-x-400mm.png', 'progression-x-401mm.png', 'progression-x-402mm.png', 'progression-x-403mm.png', 'progression-x-404mm.png', 'progression-x-405mm.png', 'progression-x-406mm.png', 'progression-x-407mm.png', 'progression-x-408mm.png', 'progression-x-409mm.png', 'progression-x-410mm.png', 'progression-x-411mm.png', 'progression-x-412mm.png', 'progression-x-413mm.png', 'progression-x-414mm.png', 'progression-x-415mm.png', 'progression-x-416mm.png', 'progression-x-417mm.png', 'progression-x-418mm.png', 'progression-x-419mm.png', 'progression-x-420mm.png', 'progression-x-421mm.png', 'progression-x-422mm.png', 'progression-x-423mm.png', 'progression-x-424mm.png', 'progression-x-425mm.png', 'progression-x-426mm.png', 'progression-x-427mm.png', 'progression-x-428mm.png', 'progression-x-429mm.png', 'progression-x-430mm.png', 'progression-x-431mm.png', 'progression-x-432mm.png', 'progression-x-433mm.png', 'progression-x-434mm.png', 'progression-x-435mm.png', 'progression-x-436mm.png', 'progression-x-437mm.png', 'progression-x-438mm.png', 'progression-x-439mm.png', 'progression-x-440mm.png', 'progression-x-441mm.png', 'progression-x-442mm.png', 'progression-x-443mm.png', 'progression-x-444mm.png', 'progression-x-445mm.png', 'progression-x-446mm.png', 'progression-x-447mm.png', 'progression-x-448mm.png', 'progression-x-449mm.png', 'progression-x-450mm.png', 'progression-x-451mm.png', 'progression-x-452mm.png', 'progression-x-453mm.png', 'progression-x-454mm.png', 'progression-x-455mm.png', 'progression-x-456mm.png', 'progression-x-457mm.png', 'progression-x-458mm.png', 'progression-x-459mm.png', 'progression-x-460mm.png', 'progression-x-461mm.png', 'progression-x-462mm.png', 'progression-x-463mm.png', 'progression-x-464mm.png', 'progression-x-465mm.png', 'progression-x-466mm.png', 'progression-x-467mm.png', 'progression-x-468mm.png', 'progression-x-469mm.png', 'progression-x-470mm.png', 'progression-x-471mm.png', 'progression-x-472mm.png', 'progression-x-473mm.png', 'progression-x-474mm.png', 'progression-x-475mm.png', 'progression-x-476mm.png', 'progression-x-477mm.png', 'progression-x-478mm.png', 'progression-x-479mm.png', 'progression-x-480mm.png', 'progression-x-481mm.png', 'progression-x-482mm.png', 'progression-x-483mm.png', 'progression-x-484mm.png', 'progression-x-485mm.png', 'progression-x-486mm.png', 'progression-x-487mm.png', 'progression-x-488mm.png', 'progression-x-489mm.png', 'progression-x-490mm.png', 'progression-x-491mm.png', 'progression-x-492mm.png', 'progression-x-493mm.png', 'progression-x-494mm.png', 'progression-x-495mm.png', 'progression-x-496mm.png', 'progression-x-497mm.png', 'progression-x-498mm.png', 'progression-x-499mm.png', 'progression-x-500mm.png', 'progression-x-501mm.png', 'progression-x-502mm.png', 'progression-x-503mm.png', 'progression-x-504mm.png', 'progression-x-505mm.png', 'progression-x-506mm.png', 'progression-x-507mm.png', 'progression-x-508mm.png', 'progression-x-509mm.png', 'progression-x-510mm.png', 'progression-x-511mm.png', 'progression-x-512mm.png', 'progression-x-513mm.png', 'progression-x-514mm.png', 'progression-x-515mm.png', 'progression-x-516mm.png', 'progression-x-517mm.png', 'progression-x-518mm.png', 'progression-x-519mm.png', 'progression-x-520mm.png', 'progression-x-521mm.png', 'progression-x-522mm.png', 'progression-x-523mm.png', 'progression-x-524mm.png', 'progression-x-525mm.png', 'progression-x-526mm.png', 'progression-x-527mm.png', 'progression-x-528mm.png', 'progression-x-529mm.png', 'progression-x-530mm.png', 'progression-x-531mm.png', 'progression-x-532mm.png', 'progression-x-533mm.png', 'progression-x-534mm.png', 'progression-x-535mm.png', 'progression-x-536mm.png', 'progression-x-537mm.png', 'progression-x-538mm.png', 'progression-x-539mm.png', 'progression-x-540mm.png', 'progression-x-541mm.png', 'progression-x-542mm.png', 'progression-x-543mm.png', 'progression-x-544mm.png', 'progression-x-545mm.png', 'progression-x-546mm.png', 'progression-x-547mm.png', 'progression-x-548mm.png', 'progression-x-549mm.png', 'progression-x-550mm.png']\n",
      "Images included in movie: ['progression-x-000mm.png', 'progression-x-001mm.png', 'progression-x-002mm.png', 'progression-x-003mm.png', 'progression-x-004mm.png', 'progression-x-005mm.png', 'progression-x-006mm.png', 'progression-x-007mm.png', 'progression-x-008mm.png', 'progression-x-009mm.png', 'progression-x-010mm.png', 'progression-x-011mm.png', 'progression-x-012mm.png', 'progression-x-013mm.png', 'progression-x-014mm.png', 'progression-x-015mm.png', 'progression-x-016mm.png', 'progression-x-017mm.png', 'progression-x-018mm.png', 'progression-x-019mm.png', 'progression-x-020mm.png', 'progression-x-021mm.png', 'progression-x-022mm.png', 'progression-x-023mm.png', 'progression-x-024mm.png', 'progression-x-025mm.png', 'progression-x-026mm.png', 'progression-x-027mm.png', 'progression-x-028mm.png', 'progression-x-029mm.png', 'progression-x-030mm.png', 'progression-x-031mm.png', 'progression-x-032mm.png', 'progression-x-033mm.png', 'progression-x-034mm.png', 'progression-x-035mm.png', 'progression-x-036mm.png', 'progression-x-037mm.png', 'progression-x-038mm.png', 'progression-x-039mm.png', 'progression-x-040mm.png', 'progression-x-041mm.png', 'progression-x-042mm.png', 'progression-x-043mm.png', 'progression-x-044mm.png', 'progression-x-045mm.png', 'progression-x-046mm.png', 'progression-x-047mm.png', 'progression-x-048mm.png', 'progression-x-049mm.png', 'progression-x-050mm.png', 'progression-x-051mm.png', 'progression-x-052mm.png', 'progression-x-053mm.png', 'progression-x-054mm.png', 'progression-x-055mm.png', 'progression-x-056mm.png', 'progression-x-057mm.png', 'progression-x-058mm.png', 'progression-x-059mm.png', 'progression-x-060mm.png', 'progression-x-061mm.png', 'progression-x-062mm.png', 'progression-x-063mm.png', 'progression-x-064mm.png', 'progression-x-065mm.png', 'progression-x-066mm.png', 'progression-x-067mm.png', 'progression-x-068mm.png', 'progression-x-069mm.png', 'progression-x-070mm.png', 'progression-x-071mm.png', 'progression-x-072mm.png', 'progression-x-073mm.png', 'progression-x-074mm.png', 'progression-x-075mm.png', 'progression-x-076mm.png', 'progression-x-077mm.png', 'progression-x-078mm.png', 'progression-x-079mm.png', 'progression-x-080mm.png', 'progression-x-081mm.png', 'progression-x-082mm.png', 'progression-x-083mm.png', 'progression-x-084mm.png', 'progression-x-085mm.png', 'progression-x-086mm.png', 'progression-x-087mm.png', 'progression-x-088mm.png', 'progression-x-089mm.png', 'progression-x-090mm.png', 'progression-x-091mm.png', 'progression-x-092mm.png', 'progression-x-093mm.png', 'progression-x-094mm.png', 'progression-x-095mm.png', 'progression-x-096mm.png', 'progression-x-097mm.png', 'progression-x-098mm.png', 'progression-x-099mm.png', 'progression-x-100mm.png', 'progression-x-101mm.png', 'progression-x-102mm.png', 'progression-x-103mm.png', 'progression-x-104mm.png', 'progression-x-105mm.png', 'progression-x-106mm.png', 'progression-x-107mm.png', 'progression-x-108mm.png', 'progression-x-109mm.png', 'progression-x-110mm.png', 'progression-x-111mm.png', 'progression-x-112mm.png', 'progression-x-113mm.png', 'progression-x-114mm.png', 'progression-x-115mm.png', 'progression-x-116mm.png', 'progression-x-117mm.png', 'progression-x-118mm.png', 'progression-x-119mm.png', 'progression-x-120mm.png', 'progression-x-121mm.png', 'progression-x-122mm.png', 'progression-x-123mm.png', 'progression-x-124mm.png', 'progression-x-125mm.png', 'progression-x-126mm.png', 'progression-x-127mm.png', 'progression-x-128mm.png', 'progression-x-129mm.png', 'progression-x-130mm.png', 'progression-x-131mm.png', 'progression-x-132mm.png', 'progression-x-133mm.png', 'progression-x-134mm.png', 'progression-x-135mm.png', 'progression-x-136mm.png', 'progression-x-137mm.png', 'progression-x-138mm.png', 'progression-x-139mm.png', 'progression-x-140mm.png', 'progression-x-141mm.png', 'progression-x-142mm.png', 'progression-x-143mm.png', 'progression-x-144mm.png', 'progression-x-145mm.png', 'progression-x-146mm.png', 'progression-x-147mm.png', 'progression-x-148mm.png', 'progression-x-149mm.png', 'progression-x-150mm.png', 'progression-x-151mm.png', 'progression-x-152mm.png', 'progression-x-153mm.png', 'progression-x-154mm.png', 'progression-x-155mm.png', 'progression-x-156mm.png', 'progression-x-157mm.png', 'progression-x-158mm.png', 'progression-x-159mm.png', 'progression-x-160mm.png', 'progression-x-161mm.png', 'progression-x-162mm.png', 'progression-x-163mm.png', 'progression-x-164mm.png', 'progression-x-165mm.png', 'progression-x-166mm.png', 'progression-x-167mm.png', 'progression-x-168mm.png', 'progression-x-169mm.png', 'progression-x-170mm.png', 'progression-x-171mm.png', 'progression-x-172mm.png', 'progression-x-173mm.png', 'progression-x-174mm.png', 'progression-x-175mm.png', 'progression-x-176mm.png', 'progression-x-177mm.png', 'progression-x-178mm.png', 'progression-x-179mm.png', 'progression-x-180mm.png', 'progression-x-181mm.png', 'progression-x-182mm.png', 'progression-x-183mm.png', 'progression-x-184mm.png', 'progression-x-185mm.png', 'progression-x-186mm.png', 'progression-x-187mm.png', 'progression-x-188mm.png', 'progression-x-189mm.png', 'progression-x-190mm.png', 'progression-x-191mm.png', 'progression-x-192mm.png', 'progression-x-193mm.png', 'progression-x-194mm.png', 'progression-x-195mm.png', 'progression-x-196mm.png', 'progression-x-197mm.png', 'progression-x-198mm.png', 'progression-x-199mm.png', 'progression-x-200mm.png', 'progression-x-201mm.png', 'progression-x-202mm.png', 'progression-x-203mm.png', 'progression-x-204mm.png', 'progression-x-205mm.png', 'progression-x-206mm.png', 'progression-x-207mm.png', 'progression-x-208mm.png', 'progression-x-209mm.png', 'progression-x-210mm.png', 'progression-x-211mm.png', 'progression-x-212mm.png', 'progression-x-213mm.png', 'progression-x-214mm.png', 'progression-x-215mm.png', 'progression-x-216mm.png', 'progression-x-217mm.png', 'progression-x-218mm.png', 'progression-x-219mm.png', 'progression-x-220mm.png', 'progression-x-221mm.png', 'progression-x-222mm.png', 'progression-x-223mm.png', 'progression-x-224mm.png', 'progression-x-225mm.png', 'progression-x-226mm.png', 'progression-x-227mm.png', 'progression-x-228mm.png', 'progression-x-229mm.png', 'progression-x-230mm.png', 'progression-x-231mm.png', 'progression-x-232mm.png', 'progression-x-233mm.png', 'progression-x-234mm.png', 'progression-x-235mm.png', 'progression-x-236mm.png', 'progression-x-237mm.png', 'progression-x-238mm.png', 'progression-x-239mm.png', 'progression-x-240mm.png', 'progression-x-241mm.png', 'progression-x-242mm.png', 'progression-x-243mm.png', 'progression-x-244mm.png', 'progression-x-245mm.png', 'progression-x-246mm.png', 'progression-x-247mm.png', 'progression-x-248mm.png', 'progression-x-249mm.png', 'progression-x-250mm.png', 'progression-x-251mm.png', 'progression-x-252mm.png', 'progression-x-253mm.png', 'progression-x-254mm.png', 'progression-x-255mm.png', 'progression-x-256mm.png', 'progression-x-257mm.png', 'progression-x-258mm.png', 'progression-x-259mm.png', 'progression-x-260mm.png', 'progression-x-261mm.png', 'progression-x-262mm.png', 'progression-x-263mm.png', 'progression-x-264mm.png', 'progression-x-265mm.png', 'progression-x-266mm.png', 'progression-x-267mm.png', 'progression-x-268mm.png', 'progression-x-269mm.png', 'progression-x-270mm.png', 'progression-x-271mm.png', 'progression-x-272mm.png', 'progression-x-273mm.png', 'progression-x-274mm.png', 'progression-x-275mm.png', 'progression-x-276mm.png', 'progression-x-277mm.png', 'progression-x-278mm.png', 'progression-x-279mm.png', 'progression-x-280mm.png', 'progression-x-281mm.png', 'progression-x-282mm.png', 'progression-x-283mm.png', 'progression-x-284mm.png', 'progression-x-285mm.png', 'progression-x-286mm.png', 'progression-x-287mm.png', 'progression-x-288mm.png', 'progression-x-289mm.png', 'progression-x-290mm.png', 'progression-x-291mm.png', 'progression-x-292mm.png', 'progression-x-293mm.png', 'progression-x-294mm.png', 'progression-x-295mm.png', 'progression-x-296mm.png', 'progression-x-297mm.png', 'progression-x-298mm.png', 'progression-x-299mm.png', 'progression-x-300mm.png', 'progression-x-301mm.png', 'progression-x-302mm.png', 'progression-x-303mm.png', 'progression-x-304mm.png', 'progression-x-305mm.png', 'progression-x-306mm.png', 'progression-x-307mm.png', 'progression-x-308mm.png', 'progression-x-309mm.png', 'progression-x-310mm.png', 'progression-x-311mm.png', 'progression-x-312mm.png', 'progression-x-313mm.png', 'progression-x-314mm.png', 'progression-x-315mm.png', 'progression-x-316mm.png', 'progression-x-317mm.png', 'progression-x-318mm.png', 'progression-x-319mm.png', 'progression-x-320mm.png', 'progression-x-321mm.png', 'progression-x-322mm.png', 'progression-x-323mm.png', 'progression-x-324mm.png', 'progression-x-325mm.png', 'progression-x-326mm.png', 'progression-x-327mm.png', 'progression-x-328mm.png', 'progression-x-329mm.png', 'progression-x-330mm.png', 'progression-x-331mm.png', 'progression-x-332mm.png', 'progression-x-333mm.png', 'progression-x-334mm.png', 'progression-x-335mm.png', 'progression-x-336mm.png', 'progression-x-337mm.png', 'progression-x-338mm.png', 'progression-x-339mm.png', 'progression-x-340mm.png', 'progression-x-341mm.png', 'progression-x-342mm.png', 'progression-x-343mm.png', 'progression-x-344mm.png', 'progression-x-345mm.png', 'progression-x-346mm.png', 'progression-x-347mm.png', 'progression-x-348mm.png', 'progression-x-349mm.png', 'progression-x-350mm.png', 'progression-x-351mm.png', 'progression-x-352mm.png', 'progression-x-353mm.png', 'progression-x-354mm.png', 'progression-x-355mm.png', 'progression-x-356mm.png', 'progression-x-357mm.png', 'progression-x-358mm.png', 'progression-x-359mm.png', 'progression-x-360mm.png', 'progression-x-361mm.png', 'progression-x-362mm.png', 'progression-x-363mm.png', 'progression-x-364mm.png', 'progression-x-365mm.png', 'progression-x-366mm.png', 'progression-x-367mm.png', 'progression-x-368mm.png', 'progression-x-369mm.png', 'progression-x-370mm.png', 'progression-x-371mm.png', 'progression-x-372mm.png', 'progression-x-373mm.png', 'progression-x-374mm.png', 'progression-x-375mm.png', 'progression-x-376mm.png', 'progression-x-377mm.png', 'progression-x-378mm.png', 'progression-x-379mm.png', 'progression-x-380mm.png', 'progression-x-381mm.png', 'progression-x-382mm.png', 'progression-x-383mm.png', 'progression-x-384mm.png', 'progression-x-385mm.png', 'progression-x-386mm.png', 'progression-x-387mm.png', 'progression-x-388mm.png', 'progression-x-389mm.png', 'progression-x-390mm.png', 'progression-x-391mm.png', 'progression-x-392mm.png', 'progression-x-393mm.png', 'progression-x-394mm.png', 'progression-x-395mm.png', 'progression-x-396mm.png', 'progression-x-397mm.png', 'progression-x-398mm.png', 'progression-x-399mm.png', 'progression-x-400mm.png', 'progression-x-401mm.png', 'progression-x-402mm.png', 'progression-x-403mm.png', 'progression-x-404mm.png', 'progression-x-405mm.png', 'progression-x-406mm.png', 'progression-x-407mm.png', 'progression-x-408mm.png', 'progression-x-409mm.png', 'progression-x-410mm.png', 'progression-x-411mm.png', 'progression-x-412mm.png', 'progression-x-413mm.png', 'progression-x-414mm.png', 'progression-x-415mm.png', 'progression-x-416mm.png', 'progression-x-417mm.png', 'progression-x-418mm.png', 'progression-x-419mm.png', 'progression-x-420mm.png', 'progression-x-421mm.png', 'progression-x-422mm.png', 'progression-x-423mm.png', 'progression-x-424mm.png', 'progression-x-425mm.png', 'progression-x-426mm.png', 'progression-x-427mm.png', 'progression-x-428mm.png', 'progression-x-429mm.png', 'progression-x-430mm.png', 'progression-x-431mm.png', 'progression-x-432mm.png', 'progression-x-433mm.png', 'progression-x-434mm.png', 'progression-x-435mm.png', 'progression-x-436mm.png', 'progression-x-437mm.png', 'progression-x-438mm.png', 'progression-x-439mm.png', 'progression-x-440mm.png', 'progression-x-441mm.png', 'progression-x-442mm.png', 'progression-x-443mm.png', 'progression-x-444mm.png', 'progression-x-445mm.png', 'progression-x-446mm.png', 'progression-x-447mm.png', 'progression-x-448mm.png', 'progression-x-449mm.png', 'progression-x-450mm.png', 'progression-x-451mm.png', 'progression-x-452mm.png', 'progression-x-453mm.png', 'progression-x-454mm.png', 'progression-x-455mm.png', 'progression-x-456mm.png', 'progression-x-457mm.png', 'progression-x-458mm.png', 'progression-x-459mm.png', 'progression-x-460mm.png', 'progression-x-461mm.png', 'progression-x-462mm.png', 'progression-x-463mm.png', 'progression-x-464mm.png', 'progression-x-465mm.png', 'progression-x-466mm.png', 'progression-x-467mm.png', 'progression-x-468mm.png', 'progression-x-469mm.png', 'progression-x-470mm.png', 'progression-x-471mm.png', 'progression-x-472mm.png', 'progression-x-473mm.png', 'progression-x-474mm.png', 'progression-x-475mm.png', 'progression-x-476mm.png', 'progression-x-477mm.png', 'progression-x-478mm.png', 'progression-x-479mm.png', 'progression-x-480mm.png', 'progression-x-481mm.png', 'progression-x-482mm.png', 'progression-x-483mm.png', 'progression-x-484mm.png', 'progression-x-485mm.png', 'progression-x-486mm.png', 'progression-x-487mm.png', 'progression-x-488mm.png', 'progression-x-489mm.png', 'progression-x-490mm.png', 'progression-x-491mm.png', 'progression-x-492mm.png', 'progression-x-493mm.png', 'progression-x-494mm.png', 'progression-x-495mm.png', 'progression-x-496mm.png', 'progression-x-497mm.png', 'progression-x-498mm.png', 'progression-x-499mm.png', 'progression-x-500mm.png', 'progression-x-501mm.png', 'progression-x-502mm.png', 'progression-x-503mm.png', 'progression-x-504mm.png', 'progression-x-505mm.png', 'progression-x-506mm.png', 'progression-x-507mm.png', 'progression-x-508mm.png', 'progression-x-509mm.png', 'progression-x-510mm.png', 'progression-x-511mm.png', 'progression-x-512mm.png', 'progression-x-513mm.png', 'progression-x-514mm.png', 'progression-x-515mm.png', 'progression-x-516mm.png', 'progression-x-517mm.png', 'progression-x-518mm.png', 'progression-x-519mm.png', 'progression-x-520mm.png', 'progression-x-521mm.png', 'progression-x-522mm.png', 'progression-x-523mm.png', 'progression-x-524mm.png', 'progression-x-525mm.png', 'progression-x-526mm.png', 'progression-x-527mm.png', 'progression-x-528mm.png', 'progression-x-529mm.png', 'progression-x-530mm.png', 'progression-x-531mm.png', 'progression-x-532mm.png', 'progression-x-533mm.png', 'progression-x-534mm.png', 'progression-x-535mm.png', 'progression-x-536mm.png', 'progression-x-537mm.png', 'progression-x-538mm.png', 'progression-x-539mm.png', 'progression-x-540mm.png', 'progression-x-541mm.png', 'progression-x-542mm.png', 'progression-x-543mm.png', 'progression-x-544mm.png', 'progression-x-545mm.png', 'progression-x-546mm.png', 'progression-x-547mm.png', 'progression-x-548mm.png', 'progression-x-549mm.png', 'progression-x-550mm.png']\n"
     ]
    }
   ],
   "source": [
    "all_subdirs = [d for d in glob.glob(os.path.join(path,\"animation*\"))]\n",
    "latest_subdir = max(all_subdirs, key=os.path.getmtime)\n",
    "image_folder = latest_subdir\n",
    "video_name = f'00-progression-movie-fullres-{fps}fps.mp4'\n",
    "os.chdir(image_folder)\n",
    "\n",
    "images = [img for img in os.listdir(image_folder)\n",
    "          if img.endswith(\".jpg\") or\n",
    "             img.endswith(\".jpeg\") or\n",
    "             img.endswith(\"png\")]\n",
    "\n",
    "print(f\"Using {len(images)} images from: {latest_subdir}\")\n",
    "print(images)\n",
    "# Array images should only consider\n",
    "# the image files ignoring others if any\n",
    "print(f\"Images included in movie: {images}\") \n",
    "\n",
    "img = cv2.imread(os.path.join(image_folder, images[0]))\n",
    "frame = cv2.resize(img, dsize=(new_width,new_height), interpolation=cv2.INTER_CUBIC)\n",
    "\n",
    "# setting the frame width, height width\n",
    "# the width, height of first image\n",
    "height, width, layers = frame.shape"
   ]
  },
  {
   "cell_type": "code",
   "execution_count": 11,
   "id": "250196e4-83ed-4749-a856-6971c6feff03",
   "metadata": {},
   "outputs": [
    {
     "name": "stdout",
     "output_type": "stream",
     "text": [
      "Generating video\n",
      "Start Time:  00:32:44\n",
      "Movie generated! File stored at C:\\\\Users\\\\nickp\\\\Documents\\\\GitHub\\\\QuEP\\animation-20210721-232702\\00-progression-movie-fullres-15fps.mp4\n",
      "Movie generation End Time:  00:36:06\n",
      "Duration of movie generation:  3.3585379401842754  min \n",
      "\n"
     ]
    }
   ],
   "source": [
    "video = cv2.VideoWriter(video_name, 0x00000021, fps, (width, height)) \n",
    "\n",
    "print(\"Generating video\")\n",
    "start_time_video = time.time()\n",
    "t = time.localtime()\n",
    "curr_time = time.strftime(\"%H:%M:%S\", t)\n",
    "print(\"Start Time: \", curr_time)\n",
    "\n",
    "# Appending the images to the video one by one\n",
    "for image in images: \n",
    "    img = cv2.imread(os.path.join(image_folder, image))\n",
    "    frame = cv2.resize(img, dsize=(new_width,new_height), interpolation=cv2.INTER_CUBIC)\n",
    "    video.write(frame) \n",
    "\n",
    "# Deallocating memories taken for window creation\n",
    "cv2.destroyAllWindows() \n",
    "video.release()  # releasing the video generated\n",
    "\n",
    "\n",
    "print(f\"Movie generated! File stored at {os.path.join(latest_subdir,video_name)}\")\n",
    "tvideof = time.localtime()\n",
    "curr_time_video_f = time.strftime(\"%H:%M:%S\", tvideof)\n",
    "print(\"Movie generation End Time: \", curr_time_video_f)\n",
    "print(\"Duration of movie generation: \", (time.time() - start_time_video)/60, \" min \\n\")"
   ]
  },
  {
   "cell_type": "code",
   "execution_count": null,
   "id": "afcea63a-2036-4404-b166-1061fbcd2bfa",
   "metadata": {},
   "outputs": [],
   "source": []
  },
  {
   "cell_type": "code",
   "execution_count": null,
   "id": "ca783383-2718-47ce-bbf1-6a1db4110be0",
   "metadata": {},
   "outputs": [],
   "source": []
  }
 ],
 "metadata": {
  "kernelspec": {
   "display_name": "Python 3",
   "language": "python",
   "name": "python3"
  },
  "language_info": {
   "codemirror_mode": {
    "name": "ipython",
    "version": 3
   },
   "file_extension": ".py",
   "mimetype": "text/x-python",
   "name": "python",
   "nbconvert_exporter": "python",
   "pygments_lexer": "ipython3",
   "version": "3.8.8"
  }
 },
 "nbformat": 4,
 "nbformat_minor": 5
}
