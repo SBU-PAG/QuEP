{
 "cells": [
  {
   "cell_type": "markdown",
   "id": "1a906175",
   "metadata": {},
   "source": [
    "# s3 Calculator"
   ]
  },
  {
   "cell_type": "markdown",
   "id": "ac2510be",
   "metadata": {},
   "source": [
    "This notebook can be used to find `s3`, the distance from `beamx_c` to the edge of the probe in the x-direction"
   ]
  },
  {
   "cell_type": "code",
   "execution_count": 1,
   "id": "17a6f651",
   "metadata": {},
   "outputs": [],
   "source": [
    "import math\r\n",
    "import numpy as np\r\n",
    "import pdb"
   ]
  },
  {
   "cell_type": "markdown",
   "id": "df6952fa",
   "metadata": {},
   "source": [
    "Enter your paramters here:"
   ]
  },
  {
   "cell_type": "code",
   "execution_count": 3,
   "id": "35cf308b",
   "metadata": {},
   "outputs": [],
   "source": [
    "s2 = 6\r\n",
    "xidensity = 120\r\n",
    "xdensity = 521\r\n",
    "x_c = -2.4"
   ]
  },
  {
   "cell_type": "markdown",
   "id": "acf05343",
   "metadata": {},
   "source": [
    "Calculations made here:\n",
    "$$\n",
    "xistep = \\frac{2*s2}{xidensity}\n",
    "$$"
   ]
  },
  {
   "cell_type": "markdown",
   "id": "cb78b058",
   "metadata": {},
   "source": [
    "$$\n",
    "xstep = xistep\n",
    "$$"
   ]
  },
  {
   "cell_type": "markdown",
   "id": "2e51d0b6",
   "metadata": {},
   "source": [
    "$$s3 = \\frac{1}{2}xstep*xdensity$$"
   ]
  },
  {
   "cell_type": "markdown",
   "id": "95b240b9",
   "metadata": {},
   "source": [
    "## Option 1"
   ]
  },
  {
   "cell_type": "code",
   "execution_count": null,
   "id": "8142d812",
   "metadata": {},
   "outputs": [],
   "source": [
    "xistep = 2*s2/xidensity\r\n",
    "xstep = xistep          \r\n",
    "s3 = xstep*(xdensity-1)/2.0\r\n",
    "print(f\"width of probe: 2*s3 = {2*s3}\")\r\n",
    "xback = x_c - s3\r\n",
    "xfront = x_c + s3\r\n",
    "print(f\"probe extends in x from {xfront} to {xback}\")"
   ]
  },
  {
   "cell_type": "markdown",
   "id": "7cd8a179",
   "metadata": {},
   "source": [
    "## Option 2"
   ]
  },
  {
   "cell_type": "code",
   "execution_count": null,
   "id": "ae9496b9",
   "metadata": {},
   "outputs": [],
   "source": [
    "probewidthx = float(input(\"enter probe width in x (c/w_p):\"))\r\n",
    "s2 = (probewidthx*xidensity)/(2*(xdensity-1))\r\n",
    "print(f\"s2 = {s2}\")"
   ]
  },
  {
   "cell_type": "markdown",
   "id": "8a7bbd52",
   "metadata": {},
   "source": [
    "## Option 3"
   ]
  },
  {
   "cell_type": "code",
   "execution_count": 4,
   "id": "656b6929",
   "metadata": {
    "tags": []
   },
   "outputs": [
    {
     "name": "stdout",
     "output_type": "stream",
     "text": [
      "120.0\n",
      "xdensity = 11.0\n"
     ]
    }
   ],
   "source": [
    "probewidthx = float(input(\"enter probe width in x (c/w_p):\"))\r\n",
    "print(probewidthx*xidensity)\r\n",
    "xdensity = (probewidthx*xidensity)/(2*s2)+1\r\n",
    "if xdensity.is_integer():\r\n",
    "    print(f\"xdensity = {xdensity}\")\r\n",
    "else:\r\n",
    "    print(\"Error: x width not possible with current parameters for xistep\")\r\n",
    "    new_xden = int(xdensity) + 1\r\n",
    "    new_probewidth = xstep*(new_xden-1)\r\n",
    "    print(f\"Using xdensity of {new_xden} will result in probe with x width of {new_probewidth}\")\r\n",
    "    \r\n"
   ]
  },
  {
   "cell_type": "code",
   "execution_count": null,
   "id": "df174a65",
   "metadata": {},
   "outputs": [],
   "source": []
  },
  {
   "cell_type": "code",
   "execution_count": null,
   "id": "d28b459c",
   "metadata": {},
   "outputs": [],
   "source": []
  }
 ],
 "metadata": {
  "interpreter": {
   "hash": "69d78928fc66e2f47ad66f2f49f75bbc0f204e62673fbe79ba32eb657b93ded1"
  },
  "kernelspec": {
   "display_name": "Python 3",
   "language": "python",
   "name": "python3"
  },
  "language_info": {
   "codemirror_mode": {
    "name": "ipython",
    "version": 3
   },
   "file_extension": ".py",
   "mimetype": "text/x-python",
   "name": "python",
   "nbconvert_exporter": "python",
   "pygments_lexer": "ipython3",
   "version": "3.8.8"
  }
 },
 "nbformat": 4,
 "nbformat_minor": 5
}
