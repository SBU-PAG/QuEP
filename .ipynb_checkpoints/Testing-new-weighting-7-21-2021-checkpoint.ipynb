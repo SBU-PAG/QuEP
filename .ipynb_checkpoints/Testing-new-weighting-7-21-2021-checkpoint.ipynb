{
 "cells": [
  {
   "cell_type": "code",
   "execution_count": 1,
   "id": "1312482d-464e-4336-b8bd-011d38de4d2c",
   "metadata": {},
   "outputs": [],
   "source": [
    "import sys\n",
    "import math\n",
    "import numpy as np\n",
    "import pdb\n",
    "import matplotlib.pyplot as plt"
   ]
  },
  {
   "cell_type": "code",
   "execution_count": 12,
   "id": "cacca1ea-d6c3-496e-9339-0f5e66e466c3",
   "metadata": {},
   "outputs": [],
   "source": [
    "beamx_c = -2.4\n",
    "beamy_c = 0.0\n",
    "beamxi_c = -9.0\n",
    "x_c = -2.4\n",
    "y_c = 0.0\n",
    "xi_c = -9.0\n",
    "s1 = 1\n",
    "s2 = 6\n",
    "xdensity = 5\n",
    "ydensity = 8\n",
    "xidensity = 10\n",
    "sigma_x = 0.1\n",
    "sigma_y = 0.2\n",
    "xidensity_ = xidensity + xdensity - 1\n",
    "t0=0\n",
    "noObj= ydensity * xidensity_"
   ]
  },
  {
   "cell_type": "code",
   "execution_count": 13,
   "id": "deca8ecb-64b7-4b2f-9fbe-c2e37dcb4205",
   "metadata": {},
   "outputs": [],
   "source": [
    "useWeights_x = True\n",
    "useWeights_y = True"
   ]
  },
  {
   "cell_type": "code",
   "execution_count": 14,
   "id": "4f9ee31d-4b32-43b9-bd92-b60e24fdd95f",
   "metadata": {},
   "outputs": [
    {
     "name": "stdout",
     "output_type": "stream",
     "text": [
      "s3 = 2.4\n"
     ]
    }
   ],
   "source": [
    "# Recompute necessary parameters (as done in shape file)\n",
    "xidensity_ = xidensity + xdensity - 1  # Allows enough particles in xi direction for x layering\n",
    "xistep = 2*s2/xidensity # Can also use resolution here\n",
    "ystep = 2*s1/ydensity\n",
    "xstep = xistep          # Purposefully setting xstep as equal to xistep for projection of x onto xi, unused here\n",
    "\n",
    "# Calculate s3 \n",
    "s3 = xstep*(xdensity-1)/2.0\n",
    "print(f\"s3 = {s3}\")\n",
    "\n",
    "# Define corners (front is first to enter field)\n",
    "ytop = y_c + s1\n",
    "ybot = y_c - s1\n",
    "xileft = xi_c - s2\n",
    "xiright = xi_c + s2\n",
    "xfront = x_c + s3  \n",
    "xback = x_c - s3\n",
    "\n",
    "# Start in front top right\n",
    "yn = ytop\n",
    "xin = xiright\n",
    "xn = xfront\n",
    "zn = xiright + t0"
   ]
  },
  {
   "cell_type": "code",
   "execution_count": 15,
   "id": "0a26bed7-cbda-485b-acaf-aef42bc2fe2e",
   "metadata": {},
   "outputs": [],
   "source": [
    "# Create individual coordiante arrays    \n",
    "x_0 = np.linspace(xfront,xback,xdensity)\n",
    "y_0 = np.linspace(ytop,ybot,ydensity)\n",
    "xi_0 = np.linspace(xiright,xileft,xidensity)\n",
    "    "
   ]
  },
  {
   "cell_type": "code",
   "execution_count": 18,
   "id": "802a01d7-2666-4c36-8fc2-38e7be103435",
   "metadata": {},
   "outputs": [
    {
     "ename": "IndexError",
     "evalue": "index 1 is out of bounds for axis 0 with size 1",
     "output_type": "error",
     "traceback": [
      "\u001b[1;31m---------------------------------------------------------------------------\u001b[0m",
      "\u001b[1;31mIndexError\u001b[0m                                Traceback (most recent call last)",
      "\u001b[1;32m<ipython-input-18-994bfc2422bb>\u001b[0m in \u001b[0;36m<module>\u001b[1;34m\u001b[0m\n\u001b[0;32m     19\u001b[0m     \u001b[1;32mfor\u001b[0m \u001b[0mj\u001b[0m \u001b[1;32min\u001b[0m \u001b[0mrange\u001b[0m\u001b[1;33m(\u001b[0m\u001b[1;36m0\u001b[0m\u001b[1;33m,\u001b[0m\u001b[0mydensity\u001b[0m\u001b[1;33m)\u001b[0m\u001b[1;33m:\u001b[0m\u001b[1;33m\u001b[0m\u001b[1;33m\u001b[0m\u001b[0m\n\u001b[0;32m     20\u001b[0m         \u001b[1;32mfor\u001b[0m \u001b[0mk\u001b[0m \u001b[1;32min\u001b[0m \u001b[0mrange\u001b[0m\u001b[1;33m(\u001b[0m\u001b[1;36m0\u001b[0m\u001b[1;33m,\u001b[0m\u001b[0mxidensity\u001b[0m\u001b[1;33m)\u001b[0m\u001b[1;33m:\u001b[0m\u001b[1;33m\u001b[0m\u001b[1;33m\u001b[0m\u001b[0m\n\u001b[1;32m---> 21\u001b[1;33m             \u001b[0mw\u001b[0m\u001b[1;33m[\u001b[0m\u001b[0mxidensity_\u001b[0m \u001b[1;33m*\u001b[0m \u001b[0mj\u001b[0m \u001b[1;33m+\u001b[0m \u001b[0mk\u001b[0m \u001b[1;33m+\u001b[0m \u001b[0mi\u001b[0m\u001b[1;33m]\u001b[0m \u001b[1;33m+=\u001b[0m \u001b[0mw_virt\u001b[0m\u001b[1;33m[\u001b[0m\u001b[0mi\u001b[0m\u001b[1;33m,\u001b[0m\u001b[0mj\u001b[0m\u001b[1;33m,\u001b[0m\u001b[0mk\u001b[0m\u001b[1;33m]\u001b[0m\u001b[1;33m\u001b[0m\u001b[1;33m\u001b[0m\u001b[0m\n\u001b[0m",
      "\u001b[1;31mIndexError\u001b[0m: index 1 is out of bounds for axis 0 with size 1"
     ]
    }
   ],
   "source": [
    "for i in range(0,len(x_0)):\n",
    "    xv, yv, xiv = np.meshgrid(x_0[i], y_0, xi_0,indexing='ij')\n",
    "\n",
    "    w_x = np.exp((-1.*(xv-beamx_c)**2)/(2*sigma_x**2))\n",
    "    w_y = np.exp((-1.*(yv-beamy_c)**2)/(2*sigma_y**2))\n",
    "    \n",
    "    # Weighting options evaluator\n",
    "    if (useWeights_x) and (useWeights_y):\n",
    "        w_virt = w_x * w_y\n",
    "    elif (useWeights_x):\n",
    "        w_virt = w_x\n",
    "    elif (useWeights_y):\n",
    "        w_virt = w_y\n",
    "\n",
    "    # Create final weighting list to return\n",
    "    # Maps 3d virtual particles onto 2d projection\n",
    "    w = []\n",
    "    w = [0 for k in range(0,noObj)]\n",
    "    for j in range(0,ydensity):\n",
    "        for k in range(0,xidensity):\n",
    "            w[xidensity_ * j + k + i] += w_virt[0,j,k]"
   ]
  },
  {
   "cell_type": "code",
   "execution_count": 17,
   "id": "2bd6098d-f8ae-4570-90a9-ba93df9ab6de",
   "metadata": {},
   "outputs": [
    {
     "name": "stdout",
     "output_type": "stream",
     "text": [
      "[3.1225412772324683e-131, 3.1225412772324683e-131, 3.1225412772324683e-131, 3.1225412772324683e-131, 3.1225412772324683e-131, 3.1225412772324683e-131, 3.1225412772324683e-131, 3.1225412772324683e-131, 3.1225412772324683e-131, 3.1225412772324683e-131, 0, 0, 0, 0, 1.4238164152871586e-128, 1.4238164152871586e-128, 1.4238164152871586e-128, 1.4238164152871586e-128, 1.4238164152871586e-128, 1.4238164152871586e-128, 1.4238164152871586e-128, 1.4238164152871586e-128, 1.4238164152871586e-128, 1.4238164152871586e-128, 0, 0, 0, 0, 8.434989261399801e-127, 8.434989261399801e-127, 8.434989261399801e-127, 8.434989261399801e-127, 8.434989261399801e-127, 8.434989261399801e-127, 8.434989261399801e-127, 8.434989261399801e-127, 8.434989261399801e-127, 8.434989261399801e-127, 0, 0, 0, 0, 6.492318289665466e-126, 6.492318289665466e-126, 6.492318289665466e-126, 6.492318289665466e-126, 6.492318289665466e-126, 6.492318289665466e-126, 6.492318289665466e-126, 6.492318289665466e-126, 6.492318289665466e-126, 6.492318289665466e-126, 0, 0, 0, 0, 6.492318289665469e-126, 6.492318289665469e-126, 6.492318289665469e-126, 6.492318289665469e-126, 6.492318289665469e-126, 6.492318289665469e-126, 6.492318289665469e-126, 6.492318289665469e-126, 6.492318289665469e-126, 6.492318289665469e-126, 0, 0, 0, 0, 8.434989261399823e-127, 8.434989261399823e-127, 8.434989261399823e-127, 8.434989261399823e-127, 8.434989261399823e-127, 8.434989261399823e-127, 8.434989261399823e-127, 8.434989261399823e-127, 8.434989261399823e-127, 8.434989261399823e-127, 0, 0, 0, 0, 1.4238164152871598e-128, 1.4238164152871598e-128, 1.4238164152871598e-128, 1.4238164152871598e-128, 1.4238164152871598e-128, 1.4238164152871598e-128, 1.4238164152871598e-128, 1.4238164152871598e-128, 1.4238164152871598e-128, 1.4238164152871598e-128, 0, 0, 0, 0, 3.1225412772324683e-131, 3.1225412772324683e-131, 3.1225412772324683e-131, 3.1225412772324683e-131, 3.1225412772324683e-131, 3.1225412772324683e-131, 3.1225412772324683e-131, 3.1225412772324683e-131, 3.1225412772324683e-131, 3.1225412772324683e-131, 0, 0, 0, 0]\n"
     ]
    }
   ],
   "source": [
    "print(w)"
   ]
  },
  {
   "cell_type": "code",
   "execution_count": null,
   "id": "cca1594a-8fd7-4a2f-8ed7-4b9f441edb54",
   "metadata": {},
   "outputs": [],
   "source": []
  }
 ],
 "metadata": {
  "kernelspec": {
   "display_name": "Python 3",
   "language": "python",
   "name": "python3"
  },
  "language_info": {
   "codemirror_mode": {
    "name": "ipython",
    "version": 3
   },
   "file_extension": ".py",
   "mimetype": "text/x-python",
   "name": "python",
   "nbconvert_exporter": "python",
   "pygments_lexer": "ipython3",
   "version": "3.8.8"
  }
 },
 "nbformat": 4,
 "nbformat_minor": 5
}
